{
 "cells": [
  {
   "cell_type": "markdown",
   "id": "5b103893-1627-4162-81ad-0a9067585fae",
   "metadata": {},
   "source": [
    "# Data Science Tools and Ecosystem"
   ]
  },
  {
   "cell_type": "markdown",
   "id": "b21a663e-7f1d-4a2c-8972-2de28ab7f988",
   "metadata": {},
   "source": [
    "In this notebook, Data science tools and Ecosystem are summarized.\n",
    "\n",
    "**Objectives:**\n",
    "+ List popular languages for Data Science\n",
    "+ List commonly used libraries\n",
    "+ List Data Science tools"
   ]
  },
  {
   "cell_type": "markdown",
   "id": "997bcee6-b505-423a-afb3-6caab6f75b30",
   "metadata": {},
   "source": [
    "Some of the popular languages that Data Scientists use are:\n",
    "1. Python\n",
    "2. R\n",
    "3. Julia"
   ]
  },
  {
   "cell_type": "markdown",
   "id": "6991f0c4-417d-4b02-8135-3cc93459f65a",
   "metadata": {},
   "source": [
    "Some of the commonly used libraries used by Data Scientists include:\n",
    "1. Pandas\n",
    "2. NumPy\n",
    "3. SciPy"
   ]
  },
  {
   "cell_type": "markdown",
   "id": "1463c1f1-4ef5-4ac8-bc47-965f12df8f55",
   "metadata": {},
   "source": [
    "| Data Science tools |\n",
    "| ------------------ |\n",
    "| MySQL |\n",
    "| PixieDust |\n",
    "| Git |"
   ]
  },
  {
   "cell_type": "markdown",
   "id": "7241f8b7-6097-47d8-986d-6a4149c16c67",
   "metadata": {},
   "source": [
    "### Below are a few examples of evaluating arithmetic expressions in Python."
   ]
  },
  {
   "cell_type": "code",
   "execution_count": 4,
   "id": "4b901344-3166-4cb1-aeb6-1aa192e2623f",
   "metadata": {},
   "outputs": [
    {
     "data": {
      "text/plain": [
       "17"
      ]
     },
     "execution_count": 4,
     "metadata": {},
     "output_type": "execute_result"
    }
   ],
   "source": [
    "# This is a simple arithmetic expression to multiple then add integers.\n",
    "(3*4)+5"
   ]
  },
  {
   "cell_type": "code",
   "execution_count": 5,
   "id": "2d402b45-a7e4-47d4-80ef-d49857cabcc4",
   "metadata": {},
   "outputs": [
    {
     "data": {
      "text/plain": [
       "3.3333333333333335"
      ]
     },
     "execution_count": 5,
     "metadata": {},
     "output_type": "execute_result"
    }
   ],
   "source": [
    "# This will convert 200 min into hours by dividing by 60.\n",
    "200/60"
   ]
  },
  {
   "cell_type": "markdown",
   "id": "f5dc5084-0ab0-4f50-8713-22d0ebc1656f",
   "metadata": {},
   "source": [
    "## Author\n",
    "\n",
    "Ramkumar"
   ]
  },
  {
   "cell_type": "code",
   "execution_count": null,
   "id": "06a800a2-be1b-4913-98f4-59e0d33a6626",
   "metadata": {},
   "outputs": [],
   "source": []
  }
 ],
 "metadata": {
  "kernelspec": {
   "display_name": "Python",
   "language": "python",
   "name": "conda-env-python-py"
  },
  "language_info": {
   "codemirror_mode": {
    "name": "ipython",
    "version": 3
   },
   "file_extension": ".py",
   "mimetype": "text/x-python",
   "name": "python",
   "nbconvert_exporter": "python",
   "pygments_lexer": "ipython3",
   "version": "3.7.12"
  }
 },
 "nbformat": 4,
 "nbformat_minor": 5
}
